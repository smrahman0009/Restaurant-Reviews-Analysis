{
 "cells": [
  {
   "cell_type": "markdown",
   "id": "7dad1a58",
   "metadata": {},
   "source": [
    "## Web Scrapping\n",
    "###### In this part, I am going to collect all the reviews through web-scrapping. My target restaurent is Mezza-Lebanese. All the required reviews will be collected from yelp website,\n",
    "###### Website link: https://www.yelp.ca/biz/mezza-lebanese-kitchen-halifax-4"
   ]
  },
  {
   "cell_type": "code",
   "execution_count": 2,
   "id": "6619be56",
   "metadata": {},
   "outputs": [],
   "source": [
    "import requests"
   ]
  },
  {
   "cell_type": "code",
   "execution_count": 3,
   "id": "677b61fa",
   "metadata": {},
   "outputs": [],
   "source": [
    "# !pip install BeautifulSoup\n",
    "# !pip install bs4"
   ]
  },
  {
   "cell_type": "code",
   "execution_count": 4,
   "id": "78c5fe16",
   "metadata": {},
   "outputs": [],
   "source": [
    "from bs4 import BeautifulSoup"
   ]
  },
  {
   "cell_type": "code",
   "execution_count": 31,
   "id": "84a5e53f",
   "metadata": {},
   "outputs": [],
   "source": [
    "r = requests.get('https://www.yelp.ca/biz/mezza-lebanese-kitchen-halifax-4?start=40')"
   ]
  },
  {
   "cell_type": "code",
   "execution_count": 32,
   "id": "237b0ff3",
   "metadata": {},
   "outputs": [
    {
     "data": {
      "text/plain": [
       "200"
      ]
     },
     "execution_count": 32,
     "metadata": {},
     "output_type": "execute_result"
    }
   ],
   "source": [
    "r.status_code"
   ]
  },
  {
   "cell_type": "code",
   "execution_count": 33,
   "id": "a1ff6dbf",
   "metadata": {},
   "outputs": [],
   "source": [
    "# r.text"
   ]
  },
  {
   "cell_type": "code",
   "execution_count": 34,
   "id": "ffa19caa",
   "metadata": {},
   "outputs": [],
   "source": [
    "soup = BeautifulSoup(r.text,'html.parser')"
   ]
  },
  {
   "cell_type": "code",
   "execution_count": 35,
   "id": "1af78b29",
   "metadata": {},
   "outputs": [],
   "source": [
    "p_ = soup.findAll(class_=\"comment__09f24__gu0rG css-qgunke\")"
   ]
  },
  {
   "cell_type": "code",
   "execution_count": 37,
   "id": "973cfc58",
   "metadata": {},
   "outputs": [
    {
     "data": {
      "text/plain": [
       "44"
      ]
     },
     "execution_count": 37,
     "metadata": {},
     "output_type": "execute_result"
    }
   ],
   "source": [
    "# reviews = []\n",
    "# for p in p_:\n",
    "#     print(p.find('p'))\n",
    "# for p in p_:\n",
    "#     reviews.append(p.text)\n",
    "\n",
    "len(reviews)"
   ]
  },
  {
   "cell_type": "code",
   "execution_count": 24,
   "id": "15ef94b9",
   "metadata": {},
   "outputs": [
    {
     "name": "stdout",
     "output_type": "stream",
     "text": [
      "I'm not really into Mediterranean food.....but I love the donairs and chicken shawarma from this place.And it doesn't matter the location...I have yet to be disappointed.And the garlic sauce is like crack,its so addictive.They even sell their own spice,which i have stained my Foreman grill with constantly when making burgers or chicken.And then there was the burger week fare...THE CHICKEN SHAWARMA BURGER...and the pickled turnips on it.Sounds gross but is SO GOOD.How good?I hate the taste of turnip and I didn't know there was turnip in the burger until after i inhaled the burger.Yeah,they are that good with the spices. \n",
      "\n",
      "Went for lunch this afternoon. They have a prime location, service was pretty friendly and the restaurant looked clean. All good things, right? So why the low score?The food, unfortunately. I got a large donair and a 500ml soda - $17.00. Kind of expensive, had a 6-7minute wait for food that was, sadly, bland. The donair meat was pretty tasteless, and same goes for the donair sauce. Overall, a pretty disappointing experience. I won't be returning for donair in the future. \n",
      "\n",
      "Very good but nothing special.  The shawarma is as expected and does not disappoint.  This is a chain restaurant and it shows but they have won awards in the past.  Just be careful when asking for everything on it because it doesn't include everything, just 4 ingredients other than the chicken.  You have to ask. \n",
      "\n",
      "Most reliable shawerma place in Halifax and they also make the best poutine. Affordable food, handsome staff, good stuff. keep it going. yee haw. \n",
      "\n",
      "I was torn with how to rate this place. If you're going to dine in, great choice. If you're going to get delivery, awful choice. First off, they charge you $4 for delivery no matter where you are located, if you're using an app, calling in, they don't care. Second, they charge several dollars for a container of garlic sauce that lasts about 5 minutes. Mine runs out after smothering my large pizza with it. Third, delivery takes forever even though they are just a few minutes away from me. and fourth, the food has gone downhill. I'm not sure if it's a new cook in there or what but it just doesn't do it for me anymore. The chicken is always dry now, most likely from the delivery taking over an hour. \n",
      "\n",
      "I have no idea why I haven't written a review for here yet, considering it's one place I frequent quite often.What's better than getting a meal that fills you beyond your comprehension for 10 dollars? I love that Mezza is so vegan-friendly except for the giant rotisseries of meat haha that I tend to have to pretend aren't there. I never liked falafel's before Mezza and now I'm a huge fan and crave their's all the time. They have the best sauce and the pickled turnip is to die for! I also LOVE their french fries. Inexpensive, delicious, filling, vegan food, nothing better! \n",
      "\n",
      "This is going to be really controversial but...I don't see the appeal of donairs. Do I get kicked out of Halifax now?So when my husband suggested we go to Mezza for donairs when my brother was in town from Alberta, I groaned a bit. I just don't understand Halifax's love affair with donairs. But..my brother wanted a Halifax donair experience so we went.And I was pleasantly surprised. Don't get me wrong, I don't dislike donairs, but I don't love them either. If I'm going to eat a donair, it's going to be at Mezza. The meat isn't dry like other places I've been to, and the spices are juuuust donair-y enough. Also...can you say filling? You won't be hungry leaving Mezza! \n",
      "\n",
      "I have been dying to try a donair in Halifax and finally got to try one. Apparently this is a chain and the food is cheap and good. I just wish it wasn't blazing hot inside.The donairs come in 2 sizes. I always think that I can eat more than I can actually eat so I wenr for the large. But let me tell you that the large is very filling and I was not able to finish it.The beef in the donair is cooked to perfection, its slightly crispy on one side which I love. The sweet sauce on the beef makes it even better. Make sure you get all the vegetables and always say yes to all sauces.They even sell pizza here and there is a bathroom downstairs. I'd love to come back for a donair! \n",
      "\n",
      "Pretty good shawarma place; got the shawarma plate for 10$ and was actually pretty good even though it's a chain. Def ask for garlic sauce. Not sure about the rice. Everything else was very good. \n",
      "\n",
      "Delicious food, great deal, large portions. Very nice folks. Ingot the grilled plate and it was plenty for dinner. \n",
      "\n",
      "So I will start it saying that I am from Ottawa which has a large Lebanese community and tones of shawarma restaurants. I was loving the idea of a shawarma while here in Halifax. I know, donair is the deal, but.... my hotel is right downtown so I checked out Mazza. Nice looking place, like the simplicity of their menu. Asked for a large chicken but notice immediately that the large is not what I am used to. The normal is about a 6 inch pita, the large was about 7 inch (vs a double or 12 in in Ottawa). Was $9; got it loaded. It was pretty good, awesome garlic sauce, chicken was dry. I ate the whole thing, was good, but to me, very expensive. To compare, I am stuffed with a regular elsewhere. I won't get it again, but if you aren't used to Ottawa shawarma, get it, Halifax is just expensive. \n",
      "\n",
      "Not great. Chicken is very dry and the garlic sauce hardly tastes like garlic. I was disappointed \n",
      "\n",
      "Bad experience with the guy who prepared my food. It was this tall skinny guy who is probably arab wearing a golden ring, and silver bracelet, on this right arm, and a cap. He was preparing the food at around 7:40pm on Tuesday night of November 14. He prepared the fries for my food in a way that he didn't rinsed them well after fry them, and he didn't add the red condiment cause he was lazy, and that made my food taste weird, and greasy. This is the second time this guy does that. Next time I see him serving the food, I will just go to any other place to eat. \n",
      "\n",
      "This is going to be really controversial but...I don't see the appeal of donairs. Do I get kicked out of Halifax now?So when my husband suggested we go to Mezza for donairs when my brother was in town from Alberta, I groaned a bit. I just don't understand Halifax's love affair with donairs. But..my brother wanted a Halifax donair experience so we went.And I was pleasantly surprised. Don't get me wrong, I don't dislike donairs, but I don't love them either. If I'm going to eat a donair, it's going to be at Mezza. The meat isn't dry like other places I've been to, and the spices are juuuust donair-y enough. Also...can you say filling? You won't be hungry leaving Mezza! \n",
      "\n",
      "Pretty good shawarma place; got the shawarma plate for 10$ and was actually pretty good even though it's a chain. Def ask for garlic sauce. Not sure about the rice. Everything else was very good. \n",
      "\n",
      "I must say I've eaten at Mezza a number of times, but not this location. Little disappointed. Donair was not spicy at all and they must charge extra for Donair sauce because there was hardly any Donair sauce on it at all. To be fair, I have had other food for Mezza and enjoyed it. Maybe it was just a bad day for Mezza, and I will try it again later to be fair. \n",
      "\n",
      "Now I went to this place so much when I was younger and it was called Venus pizza. Their donair is not what they do best. The meat though unique in taste is not what many feel donair meat should taste like. Their sauce (sorry to say) is not good. Its very runny and they load it with too much sugar. If ordered on your donair will become a soggy mess. But the are open late when stumbling from the bar.Their falafel is another story but that's for another review! \n",
      "\n",
      "The atmosphere is probably Turkish,  very plain and not air conditioned  but let me tell you that the food is great. I had a gourmet falafel which was full of made on site ingredients. The staff is very good.  I was going to skip the pickled turnip but I was given a sample and the processing explained to me. It was a good place to  go, don't judge a place by your initial impression. \n",
      "\n",
      "I went here with two friends for late night chicken shawarma wraps. The food was fresh and delicious and the staff was very friendly, prompt and courteous. Well done! \n",
      "\n",
      "The delivery service is terrible, they always forget at least one thing like last night, we ordered a pizza and requested sauce on the side and they forgot it, I called right away hoping they could catch the delivery guy but the guy who answered told me he 'didn't know what was going on' and then proceeded to tell me that he would let the delivery guy know when he got back to the store, we never heard back from them. Another time they forgot a whole shawarma and I was still charged for it. Other than that their food is normally pretty great they just have terrible service. \n",
      "\n",
      "Since coming to Halifax I've had nothing but subpar shawarma. Either living in Ottawa has caused me to be completely spoiled or the shawarma in Halifax is just bad. However, one thing thats completely inexcusable is the fact that the service here is also bad. Really bad. I've actually had a few incidences where the service has been appalling, to name a few they tried to charge me a $15 delivery fee, and overcharged my friend who was clearly drunker than I was an extra $5. Why do I keep coming here you ask? Because well, as far as shawarma goes in the HRM I've had some horrible ones but this place comes as close to the ones we get back in Ottawa.The garlic sauce here is actually quite good, not overpowering but its garlicky enough that you'll need to chew gum later. The chicken is also pretty good, its consistently busy here, and busy shawarma restaurants are usually the best because the meat is getting shaved off enough so it doesn't dry out easily. I'm not sure what makes it lacking compared to Ottawa though, the toppings maybe? The pickles aren't the long, tangy ones you find at the Lebanese grocery stores and I don't think they're as good either. Overall:Food: 3/5Service: 1/5 \n",
      "\n",
      "#BurgerWeek2016 #round8 When you take a place with quality ingredients , throw all those ingredients on a burger it's hard to go wrong! Nicely spiced chicken! Delicious pickles and beets! and a unique garlic taziki sauce brings it all together on brioche bun! My only complaint , lots of moving parts made for a messy eat! Although that was an after thought! Great Burger! Service 8/10! \n",
      "\n",
      "I love eating at Mezza, I'm new to Halifax and a vegetarian but Mezza did not disappoint me. I visited this location consecutively thrice and was always served the way I like. I eat the gourmet falafel plate and have tried the wrap too :) plate is definitely something to try. Tasty and stomach filling :) \n",
      "\n",
      "Dirty, very poor service, and rude staff. Avoid!Chicken shawarma is overpriced and not very authentic. \n",
      "\n",
      "It's just not real chicken shawarma. It's just cold sliced chicken breast on a pita. They didn't even put parsley on unless you ask for it. Pickled turnips were dry and discoloured. Hummus didn't taste like anything. Chicken was dry and lack luster. They don't even toast it for you. I was less than impressed. \n",
      "\n",
      "The atmosphere is probably Turkish,  very plain and not air conditioned  but let me tell you that the food is great. I had a gourmet falafel which was full of made on site ingredients. The staff is very good.  I was going to skip the pickled turnip but I was given a sample and the processing explained to me. It was a good place to  go, don't judge a place by your initial impression. \n",
      "\n",
      "Ordered a shwarma plate.( 10$). The pizza slices looked really good too, which is extremely rare in NS.It was great, couldn't eat it all, a ton of meat was sliced to order , great spicy fresh cut fries, fresh veg/salad/hummus was great. Only one cranky employee, probably cause she works too hard so go easy on her, rest were fine. Im going to stick to this place for my shwarma, havent had a better one in NS. \n",
      "\n",
      "Ok I have not been at this location since it changed into mezza but like the sharwama that used to be here so I though I would give it a try.  I had ordered two sharwama plates and two cokes and it came to a little over 30. I kinda thought that was a bit high for the type of location it is as it's mainly a stop and go kinda place. They do have tables where you can eat in but it's nothing fancy and the tables did not seem to be cleaned very well and the place only had one other person eating while we were there.The food was very tasty and presented well. The plate consisted of a handfull of fries or rice, a table spoon of hummus , a small dip cup of garlic sauce, about 1/2 cup of tabbouleh salad , a few stcks of pickled trurnip and 1/2 cup of very thinly sliced chicken.  And a small pita.I did like the whole thing , the chicken was very moist and flavorful there was just not a lot of it, and they dumped it on top of the fries and because it was so thinly sliced it kinda got lost in the fries, knowing how they plate it next time I will get the rice. The tabbouleh was very tasty, I love this salad and I ended up eating my girlfriends as well as she does not like it. I did not as to substitute it for anything else as it was all in hot trays behind the counter and they did not have anything else to swap it for.All in all I would got back thou next time I would get the sharwama wrap as from what I saw its half the price of the plate and you get a lot more of the chicken \n",
      "\n",
      "I was literally just in today to grab some lunch.  I noticed a sign on their door saying they're changing their name to Mezza (Mezza Kitchen I think?).  Cool.  Mezza is one of my faves so this has to be a good thing. I order up my falafel plate to go.  Its piled high with hummus, olives, tabouleh, pita, and 3 good size falafel balls, along with various pickled accoutrements.  I'm quite excited so hustle my butt back to work so I can dig in. I have to say I'm a bit disappointed.  The falafel, which is a favorite of mine, is not so great.  I'm used to light, fluffy and flavorful falafel.  This stuff is dry and bland - maybe it has something to do with the fact that they go reheated in the microwave?  I'm not a huge tabouleh fan but this stuff is OK.  The hummus is good, thankfully.  I could have done with more than just 3 olives though, but that's more of a personal \"I can't eat enough olives\" thing.  Was lunch terrible? No.  Was it \"OMGINEEDTOGETMOREOFTHISRIGHTNOW\" good?  No.  For $11 for the plate, while a fair enough price, I was expecting a bit more yum. \n",
      "\n",
      "If you are visiting Halifax, there are two things you have to try: Donair and Garlic finger. Neither one is particularly good for your healthy, but delicious. Mezza's donair is no different. Very reasonable prices and delicious food. \n",
      "\n"
     ]
    }
   ],
   "source": [
    "for review in reviews:\n",
    "    print(review,\"\\n\")"
   ]
  },
  {
   "cell_type": "markdown",
   "id": "41ad86f0",
   "metadata": {},
   "source": [
    "## Save The Data\n",
    "###### The collected data is going to be saved as "
   ]
  },
  {
   "cell_type": "code",
   "execution_count": 38,
   "id": "95f285c6",
   "metadata": {},
   "outputs": [],
   "source": [
    "import pandas as pd\n",
    "import numpy as np    \n",
    "    \n"
   ]
  },
  {
   "cell_type": "code",
   "execution_count": 39,
   "id": "813e0935",
   "metadata": {},
   "outputs": [
    {
     "data": {
      "text/html": [
       "<div>\n",
       "<style scoped>\n",
       "    .dataframe tbody tr th:only-of-type {\n",
       "        vertical-align: middle;\n",
       "    }\n",
       "\n",
       "    .dataframe tbody tr th {\n",
       "        vertical-align: top;\n",
       "    }\n",
       "\n",
       "    .dataframe thead th {\n",
       "        text-align: right;\n",
       "    }\n",
       "</style>\n",
       "<table border=\"1\" class=\"dataframe\">\n",
       "  <thead>\n",
       "    <tr style=\"text-align: right;\">\n",
       "      <th></th>\n",
       "      <th>review</th>\n",
       "    </tr>\n",
       "  </thead>\n",
       "  <tbody>\n",
       "    <tr>\n",
       "      <th>0</th>\n",
       "      <td>I'm not really into Mediterranean food.....but...</td>\n",
       "    </tr>\n",
       "    <tr>\n",
       "      <th>1</th>\n",
       "      <td>Went for lunch this afternoon. They have a pri...</td>\n",
       "    </tr>\n",
       "    <tr>\n",
       "      <th>2</th>\n",
       "      <td>Very good but nothing special.  The shawarma i...</td>\n",
       "    </tr>\n",
       "    <tr>\n",
       "      <th>3</th>\n",
       "      <td>Most reliable shawerma place in Halifax and th...</td>\n",
       "    </tr>\n",
       "    <tr>\n",
       "      <th>4</th>\n",
       "      <td>I was torn with how to rate this place. If you...</td>\n",
       "    </tr>\n",
       "  </tbody>\n",
       "</table>\n",
       "</div>"
      ],
      "text/plain": [
       "                                              review\n",
       "0  I'm not really into Mediterranean food.....but...\n",
       "1  Went for lunch this afternoon. They have a pri...\n",
       "2  Very good but nothing special.  The shawarma i...\n",
       "3  Most reliable shawerma place in Halifax and th...\n",
       "4  I was torn with how to rate this place. If you..."
      ]
     },
     "execution_count": 39,
     "metadata": {},
     "output_type": "execute_result"
    }
   ],
   "source": [
    "# df = pd.DataFrame(np.array(reviews),columns=['review'])\n",
    "# df.head()"
   ]
  },
  {
   "cell_type": "code",
   "execution_count": 48,
   "id": "333c8d79",
   "metadata": {},
   "outputs": [],
   "source": [
    "# df.to_csv(\"reviews.csv\")"
   ]
  },
  {
   "cell_type": "markdown",
   "id": "6786ce7e",
   "metadata": {},
   "source": [
    "## Import the data"
   ]
  },
  {
   "cell_type": "code",
   "execution_count": 49,
   "id": "748b1a84",
   "metadata": {},
   "outputs": [
    {
     "data": {
      "text/html": [
       "<div>\n",
       "<style scoped>\n",
       "    .dataframe tbody tr th:only-of-type {\n",
       "        vertical-align: middle;\n",
       "    }\n",
       "\n",
       "    .dataframe tbody tr th {\n",
       "        vertical-align: top;\n",
       "    }\n",
       "\n",
       "    .dataframe thead th {\n",
       "        text-align: right;\n",
       "    }\n",
       "</style>\n",
       "<table border=\"1\" class=\"dataframe\">\n",
       "  <thead>\n",
       "    <tr style=\"text-align: right;\">\n",
       "      <th></th>\n",
       "      <th>Unnamed: 0</th>\n",
       "      <th>review</th>\n",
       "    </tr>\n",
       "  </thead>\n",
       "  <tbody>\n",
       "    <tr>\n",
       "      <th>0</th>\n",
       "      <td>0</td>\n",
       "      <td>I'm not really into Mediterranean food.....but...</td>\n",
       "    </tr>\n",
       "    <tr>\n",
       "      <th>1</th>\n",
       "      <td>1</td>\n",
       "      <td>Went for lunch this afternoon. They have a pri...</td>\n",
       "    </tr>\n",
       "    <tr>\n",
       "      <th>2</th>\n",
       "      <td>2</td>\n",
       "      <td>Very good but nothing special.  The shawarma i...</td>\n",
       "    </tr>\n",
       "    <tr>\n",
       "      <th>3</th>\n",
       "      <td>3</td>\n",
       "      <td>Most reliable shawerma place in Halifax and th...</td>\n",
       "    </tr>\n",
       "    <tr>\n",
       "      <th>4</th>\n",
       "      <td>4</td>\n",
       "      <td>I was torn with how to rate this place. If you...</td>\n",
       "    </tr>\n",
       "    <tr>\n",
       "      <th>5</th>\n",
       "      <td>5</td>\n",
       "      <td>I have no idea why I haven't written a review ...</td>\n",
       "    </tr>\n",
       "    <tr>\n",
       "      <th>6</th>\n",
       "      <td>6</td>\n",
       "      <td>This is going to be really controversial but.....</td>\n",
       "    </tr>\n",
       "    <tr>\n",
       "      <th>7</th>\n",
       "      <td>7</td>\n",
       "      <td>I have been dying to try a donair in Halifax a...</td>\n",
       "    </tr>\n",
       "    <tr>\n",
       "      <th>8</th>\n",
       "      <td>8</td>\n",
       "      <td>Pretty good shawarma place; got the shawarma p...</td>\n",
       "    </tr>\n",
       "    <tr>\n",
       "      <th>9</th>\n",
       "      <td>9</td>\n",
       "      <td>Delicious food, great deal, large portions. Ve...</td>\n",
       "    </tr>\n",
       "    <tr>\n",
       "      <th>10</th>\n",
       "      <td>10</td>\n",
       "      <td>So I will start it saying that I am from Ottaw...</td>\n",
       "    </tr>\n",
       "    <tr>\n",
       "      <th>11</th>\n",
       "      <td>11</td>\n",
       "      <td>Not great. Chicken is very dry and the garlic ...</td>\n",
       "    </tr>\n",
       "    <tr>\n",
       "      <th>12</th>\n",
       "      <td>12</td>\n",
       "      <td>Bad experience with the guy who prepared my fo...</td>\n",
       "    </tr>\n",
       "    <tr>\n",
       "      <th>13</th>\n",
       "      <td>13</td>\n",
       "      <td>This is going to be really controversial but.....</td>\n",
       "    </tr>\n",
       "    <tr>\n",
       "      <th>14</th>\n",
       "      <td>14</td>\n",
       "      <td>Pretty good shawarma place; got the shawarma p...</td>\n",
       "    </tr>\n",
       "    <tr>\n",
       "      <th>15</th>\n",
       "      <td>15</td>\n",
       "      <td>I must say I've eaten at Mezza a number of tim...</td>\n",
       "    </tr>\n",
       "    <tr>\n",
       "      <th>16</th>\n",
       "      <td>16</td>\n",
       "      <td>Now I went to this place so much when I was yo...</td>\n",
       "    </tr>\n",
       "    <tr>\n",
       "      <th>17</th>\n",
       "      <td>17</td>\n",
       "      <td>The atmosphere is probably Turkish,  very plai...</td>\n",
       "    </tr>\n",
       "    <tr>\n",
       "      <th>18</th>\n",
       "      <td>18</td>\n",
       "      <td>I went here with two friends for late night ch...</td>\n",
       "    </tr>\n",
       "    <tr>\n",
       "      <th>19</th>\n",
       "      <td>19</td>\n",
       "      <td>The delivery service is terrible, they always ...</td>\n",
       "    </tr>\n",
       "    <tr>\n",
       "      <th>20</th>\n",
       "      <td>20</td>\n",
       "      <td>Since coming to Halifax I've had nothing but s...</td>\n",
       "    </tr>\n",
       "    <tr>\n",
       "      <th>21</th>\n",
       "      <td>21</td>\n",
       "      <td>#BurgerWeek2016 #round8 When you take a place ...</td>\n",
       "    </tr>\n",
       "    <tr>\n",
       "      <th>22</th>\n",
       "      <td>22</td>\n",
       "      <td>I love eating at Mezza, I'm new to Halifax and...</td>\n",
       "    </tr>\n",
       "    <tr>\n",
       "      <th>23</th>\n",
       "      <td>23</td>\n",
       "      <td>Dirty, very poor service, and rude staff. Avoi...</td>\n",
       "    </tr>\n",
       "    <tr>\n",
       "      <th>24</th>\n",
       "      <td>24</td>\n",
       "      <td>It's just not real chicken shawarma. It's just...</td>\n",
       "    </tr>\n",
       "    <tr>\n",
       "      <th>25</th>\n",
       "      <td>25</td>\n",
       "      <td>The atmosphere is probably Turkish,  very plai...</td>\n",
       "    </tr>\n",
       "    <tr>\n",
       "      <th>26</th>\n",
       "      <td>26</td>\n",
       "      <td>Ordered a shwarma plate.( 10$). The pizza slic...</td>\n",
       "    </tr>\n",
       "    <tr>\n",
       "      <th>27</th>\n",
       "      <td>27</td>\n",
       "      <td>Ok I have not been at this location since it c...</td>\n",
       "    </tr>\n",
       "    <tr>\n",
       "      <th>28</th>\n",
       "      <td>28</td>\n",
       "      <td>I was literally just in today to grab some lun...</td>\n",
       "    </tr>\n",
       "    <tr>\n",
       "      <th>29</th>\n",
       "      <td>29</td>\n",
       "      <td>If you are visiting Halifax, there are two thi...</td>\n",
       "    </tr>\n",
       "    <tr>\n",
       "      <th>30</th>\n",
       "      <td>30</td>\n",
       "      <td>I must say I've eaten at Mezza a number of tim...</td>\n",
       "    </tr>\n",
       "    <tr>\n",
       "      <th>31</th>\n",
       "      <td>31</td>\n",
       "      <td>Our workplace orders from Mezza a lot, and are...</td>\n",
       "    </tr>\n",
       "    <tr>\n",
       "      <th>32</th>\n",
       "      <td>32</td>\n",
       "      <td>Bad experience with the guy who prepared my fo...</td>\n",
       "    </tr>\n",
       "    <tr>\n",
       "      <th>33</th>\n",
       "      <td>33</td>\n",
       "      <td>Went here the other day after hearing about th...</td>\n",
       "    </tr>\n",
       "    <tr>\n",
       "      <th>34</th>\n",
       "      <td>34</td>\n",
       "      <td>While the food here is OK, I find it very expe...</td>\n",
       "    </tr>\n",
       "    <tr>\n",
       "      <th>35</th>\n",
       "      <td>35</td>\n",
       "      <td>Best food I've had in a long time.  The plates...</td>\n",
       "    </tr>\n",
       "    <tr>\n",
       "      <th>36</th>\n",
       "      <td>36</td>\n",
       "      <td>Best shawarma and donair in the city IMHO. Ser...</td>\n",
       "    </tr>\n",
       "    <tr>\n",
       "      <th>37</th>\n",
       "      <td>37</td>\n",
       "      <td>I  am so disappointed with the huge drop in qu...</td>\n",
       "    </tr>\n",
       "    <tr>\n",
       "      <th>38</th>\n",
       "      <td>38</td>\n",
       "      <td>Spend my summers in NS, and I travel the provi...</td>\n",
       "    </tr>\n",
       "    <tr>\n",
       "      <th>39</th>\n",
       "      <td>39</td>\n",
       "      <td>I went here with two friends for late night ch...</td>\n",
       "    </tr>\n",
       "    <tr>\n",
       "      <th>40</th>\n",
       "      <td>40</td>\n",
       "      <td>The delivery service is terrible, they always ...</td>\n",
       "    </tr>\n",
       "    <tr>\n",
       "      <th>41</th>\n",
       "      <td>41</td>\n",
       "      <td>Went in there once for a chicken shawarma . Th...</td>\n",
       "    </tr>\n",
       "    <tr>\n",
       "      <th>42</th>\n",
       "      <td>42</td>\n",
       "      <td>Great place for Lebanese fast food. But next t...</td>\n",
       "    </tr>\n",
       "    <tr>\n",
       "      <th>43</th>\n",
       "      <td>43</td>\n",
       "      <td>With all the best of awards for the Shawarma a...</td>\n",
       "    </tr>\n",
       "  </tbody>\n",
       "</table>\n",
       "</div>"
      ],
      "text/plain": [
       "    Unnamed: 0                                             review\n",
       "0            0  I'm not really into Mediterranean food.....but...\n",
       "1            1  Went for lunch this afternoon. They have a pri...\n",
       "2            2  Very good but nothing special.  The shawarma i...\n",
       "3            3  Most reliable shawerma place in Halifax and th...\n",
       "4            4  I was torn with how to rate this place. If you...\n",
       "5            5  I have no idea why I haven't written a review ...\n",
       "6            6  This is going to be really controversial but.....\n",
       "7            7  I have been dying to try a donair in Halifax a...\n",
       "8            8  Pretty good shawarma place; got the shawarma p...\n",
       "9            9  Delicious food, great deal, large portions. Ve...\n",
       "10          10  So I will start it saying that I am from Ottaw...\n",
       "11          11  Not great. Chicken is very dry and the garlic ...\n",
       "12          12  Bad experience with the guy who prepared my fo...\n",
       "13          13  This is going to be really controversial but.....\n",
       "14          14  Pretty good shawarma place; got the shawarma p...\n",
       "15          15  I must say I've eaten at Mezza a number of tim...\n",
       "16          16  Now I went to this place so much when I was yo...\n",
       "17          17  The atmosphere is probably Turkish,  very plai...\n",
       "18          18  I went here with two friends for late night ch...\n",
       "19          19  The delivery service is terrible, they always ...\n",
       "20          20  Since coming to Halifax I've had nothing but s...\n",
       "21          21  #BurgerWeek2016 #round8 When you take a place ...\n",
       "22          22  I love eating at Mezza, I'm new to Halifax and...\n",
       "23          23  Dirty, very poor service, and rude staff. Avoi...\n",
       "24          24  It's just not real chicken shawarma. It's just...\n",
       "25          25  The atmosphere is probably Turkish,  very plai...\n",
       "26          26  Ordered a shwarma plate.( 10$). The pizza slic...\n",
       "27          27  Ok I have not been at this location since it c...\n",
       "28          28  I was literally just in today to grab some lun...\n",
       "29          29  If you are visiting Halifax, there are two thi...\n",
       "30          30  I must say I've eaten at Mezza a number of tim...\n",
       "31          31  Our workplace orders from Mezza a lot, and are...\n",
       "32          32  Bad experience with the guy who prepared my fo...\n",
       "33          33  Went here the other day after hearing about th...\n",
       "34          34  While the food here is OK, I find it very expe...\n",
       "35          35  Best food I've had in a long time.  The plates...\n",
       "36          36  Best shawarma and donair in the city IMHO. Ser...\n",
       "37          37  I  am so disappointed with the huge drop in qu...\n",
       "38          38  Spend my summers in NS, and I travel the provi...\n",
       "39          39  I went here with two friends for late night ch...\n",
       "40          40  The delivery service is terrible, they always ...\n",
       "41          41  Went in there once for a chicken shawarma . Th...\n",
       "42          42  Great place for Lebanese fast food. But next t...\n",
       "43          43  With all the best of awards for the Shawarma a..."
      ]
     },
     "execution_count": 49,
     "metadata": {},
     "output_type": "execute_result"
    }
   ],
   "source": [
    "df = pd.read_csv(\"reviews.csv\")\n"
   ]
  },
  {
   "cell_type": "markdown",
   "id": "00d5f015",
   "metadata": {},
   "source": [
    "## Analyse the data"
   ]
  },
  {
   "cell_type": "code",
   "execution_count": 89,
   "id": "c6ff640d",
   "metadata": {},
   "outputs": [],
   "source": [
    "df['word_count'] = df['review'].apply(lambda x: len(x.split()))"
   ]
  },
  {
   "cell_type": "code",
   "execution_count": 90,
   "id": "ff0ce709",
   "metadata": {},
   "outputs": [],
   "source": [
    "df['char_count'] = df['review'].apply(lambda x:len(x))"
   ]
  },
  {
   "cell_type": "code",
   "execution_count": 91,
   "id": "eb6bac90",
   "metadata": {},
   "outputs": [
    {
     "data": {
      "text/html": [
       "<div>\n",
       "<style scoped>\n",
       "    .dataframe tbody tr th:only-of-type {\n",
       "        vertical-align: middle;\n",
       "    }\n",
       "\n",
       "    .dataframe tbody tr th {\n",
       "        vertical-align: top;\n",
       "    }\n",
       "\n",
       "    .dataframe thead th {\n",
       "        text-align: right;\n",
       "    }\n",
       "</style>\n",
       "<table border=\"1\" class=\"dataframe\">\n",
       "  <thead>\n",
       "    <tr style=\"text-align: right;\">\n",
       "      <th></th>\n",
       "      <th>review</th>\n",
       "      <th>word_count</th>\n",
       "      <th>char_count</th>\n",
       "    </tr>\n",
       "  </thead>\n",
       "  <tbody>\n",
       "    <tr>\n",
       "      <th>0</th>\n",
       "      <td>Dry falafel, dry chicken had a few pieces that...</td>\n",
       "      <td>57</td>\n",
       "      <td>309</td>\n",
       "    </tr>\n",
       "    <tr>\n",
       "      <th>1</th>\n",
       "      <td>Stellar! If... ... soggy microwaved falafel, t...</td>\n",
       "      <td>158</td>\n",
       "      <td>872</td>\n",
       "    </tr>\n",
       "    <tr>\n",
       "      <th>2</th>\n",
       "      <td>So I will start it saying that I am from Ottaw...</td>\n",
       "      <td>155</td>\n",
       "      <td>799</td>\n",
       "    </tr>\n",
       "    <tr>\n",
       "      <th>3</th>\n",
       "      <td>Amazing chicken shawarma plate! Full of flavou...</td>\n",
       "      <td>55</td>\n",
       "      <td>290</td>\n",
       "    </tr>\n",
       "    <tr>\n",
       "      <th>4</th>\n",
       "      <td>I am visiting Halifax for first time.  There a...</td>\n",
       "      <td>159</td>\n",
       "      <td>832</td>\n",
       "    </tr>\n",
       "  </tbody>\n",
       "</table>\n",
       "</div>"
      ],
      "text/plain": [
       "                                              review  word_count  char_count\n",
       "0  Dry falafel, dry chicken had a few pieces that...          57         309\n",
       "1  Stellar! If... ... soggy microwaved falafel, t...         158         872\n",
       "2  So I will start it saying that I am from Ottaw...         155         799\n",
       "3  Amazing chicken shawarma plate! Full of flavou...          55         290\n",
       "4  I am visiting Halifax for first time.  There a...         159         832"
      ]
     },
     "execution_count": 91,
     "metadata": {},
     "output_type": "execute_result"
    }
   ],
   "source": [
    "df.head()"
   ]
  },
  {
   "cell_type": "code",
   "execution_count": 92,
   "id": "881f0c7b",
   "metadata": {},
   "outputs": [],
   "source": [
    "def average_words(x):\n",
    "    words = x.split()\n",
    "    return sum(len(word) for word in words) / len(words)"
   ]
  },
  {
   "cell_type": "code",
   "execution_count": 93,
   "id": "5aa7d010",
   "metadata": {},
   "outputs": [],
   "source": [
    "df['average_word_length'] = df['review'].apply(lambda x: average_words(x))"
   ]
  },
  {
   "cell_type": "code",
   "execution_count": 94,
   "id": "25f0ef74",
   "metadata": {},
   "outputs": [
    {
     "name": "stdout",
     "output_type": "stream",
     "text": [
      "Requirement already satisfied: nltk in c:\\users\\smrah\\appdata\\local\\programs\\python\\python39\\lib\\site-packages (3.7)\n",
      "Requirement already satisfied: joblib in c:\\users\\smrah\\appdata\\local\\programs\\python\\python39\\lib\\site-packages (from nltk) (1.0.1)\n",
      "Requirement already satisfied: regex>=2021.8.3 in c:\\users\\smrah\\appdata\\local\\programs\\python\\python39\\lib\\site-packages (from nltk) (2022.6.2)\n",
      "Requirement already satisfied: click in c:\\users\\smrah\\appdata\\local\\programs\\python\\python39\\lib\\site-packages (from nltk) (7.1.2)\n",
      "Requirement already satisfied: tqdm in c:\\users\\smrah\\appdata\\local\\programs\\python\\python39\\lib\\site-packages (from nltk) (4.62.3)\n",
      "Requirement already satisfied: colorama in c:\\users\\smrah\\appdata\\local\\programs\\python\\python39\\lib\\site-packages (from tqdm->nltk) (0.4.4)\n"
     ]
    }
   ],
   "source": [
    "!pip install nltk"
   ]
  },
  {
   "cell_type": "code",
   "execution_count": 95,
   "id": "85e26614",
   "metadata": {},
   "outputs": [
    {
     "name": "stderr",
     "output_type": "stream",
     "text": [
      "[nltk_data] Downloading package stopwords to\n",
      "[nltk_data]     C:\\Users\\smrah\\AppData\\Roaming\\nltk_data...\n",
      "[nltk_data]   Package stopwords is already up-to-date!\n"
     ]
    },
    {
     "data": {
      "text/plain": [
       "True"
      ]
     },
     "execution_count": 95,
     "metadata": {},
     "output_type": "execute_result"
    }
   ],
   "source": [
    "from nltk.corpus import stopwords\n",
    "import nltk\n",
    "nltk.download('stopwords')"
   ]
  },
  {
   "cell_type": "code",
   "execution_count": 96,
   "id": "73d96c03",
   "metadata": {},
   "outputs": [],
   "source": [
    "stop_words = stopwords.words('english')"
   ]
  },
  {
   "cell_type": "code",
   "execution_count": 97,
   "id": "1b6cd309",
   "metadata": {},
   "outputs": [
    {
     "data": {
      "text/plain": [
       "179"
      ]
     },
     "execution_count": 97,
     "metadata": {},
     "output_type": "execute_result"
    }
   ],
   "source": [
    "len(stop_words)\n",
    "# stop_words"
   ]
  },
  {
   "cell_type": "code",
   "execution_count": 98,
   "id": "4103cf31",
   "metadata": {},
   "outputs": [],
   "source": [
    "df['stopword_count'] = df['review'].apply(lambda x: len([word for word in x.split() if word.lower() in stop_words]))\n"
   ]
  },
  {
   "cell_type": "code",
   "execution_count": 99,
   "id": "a6b42225",
   "metadata": {},
   "outputs": [],
   "source": [
    "df['stopword_rate'] = df['stopword_count'] / df['word_count']"
   ]
  },
  {
   "cell_type": "code",
   "execution_count": 100,
   "id": "77e3d86e",
   "metadata": {},
   "outputs": [
    {
     "data": {
      "text/html": [
       "<div>\n",
       "<style scoped>\n",
       "    .dataframe tbody tr th:only-of-type {\n",
       "        vertical-align: middle;\n",
       "    }\n",
       "\n",
       "    .dataframe tbody tr th {\n",
       "        vertical-align: top;\n",
       "    }\n",
       "\n",
       "    .dataframe thead th {\n",
       "        text-align: right;\n",
       "    }\n",
       "</style>\n",
       "<table border=\"1\" class=\"dataframe\">\n",
       "  <thead>\n",
       "    <tr style=\"text-align: right;\">\n",
       "      <th></th>\n",
       "      <th>review</th>\n",
       "      <th>word_count</th>\n",
       "      <th>char_count</th>\n",
       "      <th>average_word_length</th>\n",
       "      <th>stopword_count</th>\n",
       "      <th>stopword_rate</th>\n",
       "    </tr>\n",
       "  </thead>\n",
       "  <tbody>\n",
       "    <tr>\n",
       "      <th>0</th>\n",
       "      <td>Dry falafel, dry chicken had a few pieces that...</td>\n",
       "      <td>57</td>\n",
       "      <td>309</td>\n",
       "      <td>4.438596</td>\n",
       "      <td>21</td>\n",
       "      <td>0.368421</td>\n",
       "    </tr>\n",
       "    <tr>\n",
       "      <th>1</th>\n",
       "      <td>Stellar! If... ... soggy microwaved falafel, t...</td>\n",
       "      <td>158</td>\n",
       "      <td>872</td>\n",
       "      <td>4.525316</td>\n",
       "      <td>81</td>\n",
       "      <td>0.512658</td>\n",
       "    </tr>\n",
       "    <tr>\n",
       "      <th>2</th>\n",
       "      <td>So I will start it saying that I am from Ottaw...</td>\n",
       "      <td>155</td>\n",
       "      <td>799</td>\n",
       "      <td>4.161290</td>\n",
       "      <td>79</td>\n",
       "      <td>0.509677</td>\n",
       "    </tr>\n",
       "    <tr>\n",
       "      <th>3</th>\n",
       "      <td>Amazing chicken shawarma plate! Full of flavou...</td>\n",
       "      <td>55</td>\n",
       "      <td>290</td>\n",
       "      <td>4.290909</td>\n",
       "      <td>28</td>\n",
       "      <td>0.509091</td>\n",
       "    </tr>\n",
       "    <tr>\n",
       "      <th>4</th>\n",
       "      <td>I am visiting Halifax for first time.  There a...</td>\n",
       "      <td>159</td>\n",
       "      <td>832</td>\n",
       "      <td>4.144654</td>\n",
       "      <td>81</td>\n",
       "      <td>0.509434</td>\n",
       "    </tr>\n",
       "  </tbody>\n",
       "</table>\n",
       "</div>"
      ],
      "text/plain": [
       "                                              review  word_count  char_count  \\\n",
       "0  Dry falafel, dry chicken had a few pieces that...          57         309   \n",
       "1  Stellar! If... ... soggy microwaved falafel, t...         158         872   \n",
       "2  So I will start it saying that I am from Ottaw...         155         799   \n",
       "3  Amazing chicken shawarma plate! Full of flavou...          55         290   \n",
       "4  I am visiting Halifax for first time.  There a...         159         832   \n",
       "\n",
       "   average_word_length  stopword_count  stopword_rate  \n",
       "0             4.438596              21       0.368421  \n",
       "1             4.525316              81       0.512658  \n",
       "2             4.161290              79       0.509677  \n",
       "3             4.290909              28       0.509091  \n",
       "4             4.144654              81       0.509434  "
      ]
     },
     "execution_count": 100,
     "metadata": {},
     "output_type": "execute_result"
    }
   ],
   "source": [
    "df.head()"
   ]
  },
  {
   "cell_type": "markdown",
   "id": "9967f2b8",
   "metadata": {},
   "source": [
    "## Data Cleaning"
   ]
  },
  {
   "cell_type": "code",
   "execution_count": 101,
   "id": "16123303",
   "metadata": {},
   "outputs": [
    {
     "data": {
      "text/plain": [
       "0    Dry falafel, dry chicken had a few pieces that...\n",
       "1    Stellar! If... ... soggy microwaved falafel, t...\n",
       "2    So I will start it saying that I am from Ottaw...\n",
       "3    Amazing chicken shawarma plate! Full of flavou...\n",
       "4    I am visiting Halifax for first time.  There a...\n",
       "5    Now I went to this place so much when I was yo...\n",
       "6    Not great. Chicken is very dry and the garlic ...\n",
       "7    Will not be back. The food and service quality...\n",
       "8    Big fan of their Clayton Park location! Was ex...\n",
       "9    I love Mezza. So does my kid. She is always as...\n",
       "Name: review, dtype: object"
      ]
     },
     "execution_count": 101,
     "metadata": {},
     "output_type": "execute_result"
    }
   ],
   "source": [
    "df['review']"
   ]
  },
  {
   "cell_type": "code",
   "execution_count": 102,
   "id": "56bea122",
   "metadata": {},
   "outputs": [],
   "source": [
    "df['lowercase'] = df['review'].apply(lambda x: \" \".join(word.lower() for word in x.split()))"
   ]
  },
  {
   "cell_type": "code",
   "execution_count": 103,
   "id": "dc1e7f72",
   "metadata": {},
   "outputs": [
    {
     "name": "stderr",
     "output_type": "stream",
     "text": [
      "C:\\Users\\smrah\\AppData\\Local\\Temp/ipykernel_5084/4175363168.py:1: FutureWarning: The default value of regex will change from True to False in a future version.\n",
      "  df['punctuation'] = df['lowercase'].str.replace('[^\\w\\s]','')\n"
     ]
    }
   ],
   "source": [
    "df['punctuation'] = df['lowercase'].str.replace('[^\\w\\s]','')"
   ]
  },
  {
   "cell_type": "code",
   "execution_count": 104,
   "id": "b46a93c1",
   "metadata": {},
   "outputs": [],
   "source": [
    "df['stopwords'] = df['punctuation'].apply(lambda x: \" \".join(word for word in x.split() if word not in stop_words))"
   ]
  },
  {
   "cell_type": "code",
   "execution_count": 105,
   "id": "3e4224ae",
   "metadata": {},
   "outputs": [
    {
     "data": {
      "text/plain": [
       "chicken         12\n",
       "food            10\n",
       "shawarma         9\n",
       "good             9\n",
       "like             7\n",
       "falafel          6\n",
       "sauce            6\n",
       "get              5\n",
       "donair           5\n",
       "large            5\n",
       "much             5\n",
       "dry              4\n",
       "plate            4\n",
       "used             4\n",
       "mezza            4\n",
       "take             4\n",
       "service          4\n",
       "garlic           4\n",
       "rice             4\n",
       "better           4\n",
       "hummus           4\n",
       "location         4\n",
       "halifax          3\n",
       "souvlaki         3\n",
       "quick            3\n",
       "back             3\n",
       "disappointed     3\n",
       "day              3\n",
       "leftovers        3\n",
       "soggy            3\n",
       "place            3\n",
       "something        3\n",
       "dining           3\n",
       "ottawa           3\n",
       "shwarma          3\n",
       "though           3\n",
       "garlicky         3\n",
       "best             3\n",
       "dont             3\n",
       "always           2\n",
       "gum              2\n",
       "inch             2\n",
       "think            2\n",
       "tahini           2\n",
       "city             2\n",
       "customer         2\n",
       "mixed            2\n",
       "need             2\n",
       "quality          2\n",
       "pita             2\n",
       "dtype: int64"
      ]
     },
     "execution_count": 105,
     "metadata": {},
     "output_type": "execute_result"
    }
   ],
   "source": [
    "pd.Series(\" \".join(df['stopwords']).split()).value_counts()[:50]"
   ]
  },
  {
   "cell_type": "code",
   "execution_count": 106,
   "id": "b17e07b8",
   "metadata": {},
   "outputs": [],
   "source": [
    "other_stop_words = ['food','get','used','take','day','something','always','city']"
   ]
  },
  {
   "cell_type": "code",
   "execution_count": 107,
   "id": "7f83ca73",
   "metadata": {},
   "outputs": [],
   "source": [
    "df['cleand_review'] = df['stopwords'].apply(lambda x: \" \".join(word for word in x.split() if word not in other_stop_words))"
   ]
  },
  {
   "cell_type": "markdown",
   "id": "c71c09c1",
   "metadata": {},
   "source": [
    "## Lemmatization\n",
    "###### Lemmatization turning words into its base form. As example, it turns am, is, are into be."
   ]
  },
  {
   "cell_type": "code",
   "execution_count": 108,
   "id": "ff67ac5e",
   "metadata": {},
   "outputs": [
    {
     "name": "stderr",
     "output_type": "stream",
     "text": [
      "[nltk_data] Downloading package wordnet to\n",
      "[nltk_data]     C:\\Users\\smrah\\AppData\\Roaming\\nltk_data...\n",
      "[nltk_data]   Package wordnet is already up-to-date!\n",
      "[nltk_data] Downloading package omw-1.4 to\n",
      "[nltk_data]     C:\\Users\\smrah\\AppData\\Roaming\\nltk_data...\n",
      "[nltk_data]   Package omw-1.4 is already up-to-date!\n"
     ]
    }
   ],
   "source": [
    "# Import textblob\n",
    "# !pip install textblob\n",
    "nltk.download('wordnet')\n",
    "nltk.download('omw-1.4')\n",
    "from textblob import Word"
   ]
  },
  {
   "cell_type": "code",
   "execution_count": 110,
   "id": "ae132364",
   "metadata": {},
   "outputs": [],
   "source": [
    "df['lemmatized_review'] = df['cleand_review'].apply(lambda x: \" \".join(Word(word).lemmatize() for word in x.split()))"
   ]
  },
  {
   "cell_type": "code",
   "execution_count": 112,
   "id": "19645f63",
   "metadata": {},
   "outputs": [
    {
     "data": {
      "text/plain": [
       "chicken         12\n",
       "shawarma         9\n",
       "good             9\n",
       "like             7\n",
       "sauce            7\n",
       "falafel          6\n",
       "large            5\n",
       "much             5\n",
       "donair           5\n",
       "location         5\n",
       "rice             4\n",
       "mezza            4\n",
       "better           4\n",
       "service          4\n",
       "plate            4\n",
       "garlic           4\n",
       "dry              4\n",
       "hummus           4\n",
       "back             3\n",
       "dining           3\n",
       "though           3\n",
       "best             3\n",
       "dont             3\n",
       "soggy            3\n",
       "place            3\n",
       "meat             3\n",
       "halifax          3\n",
       "garlicky         3\n",
       "souvlaki         3\n",
       "shwarma          3\n",
       "disappointed     3\n",
       "quick            3\n",
       "leftover         3\n",
       "ottawa           3\n",
       "taste            3\n",
       "order            2\n",
       "ever             2\n",
       "long             2\n",
       "another          2\n",
       "fresh            2\n",
       "area             2\n",
       "friendly         2\n",
       "supposed         2\n",
       "way              2\n",
       "know             2\n",
       "went             2\n",
       "grill            2\n",
       "mixed            2\n",
       "big              2\n",
       "one              2\n",
       "dtype: int64"
      ]
     },
     "execution_count": 112,
     "metadata": {},
     "output_type": "execute_result"
    }
   ],
   "source": [
    "# df.head()\n",
    "pd.Series(\" \".join(df['lemmatized_review']).split()).value_counts()[:50]"
   ]
  },
  {
   "cell_type": "markdown",
   "id": "5e1eb520",
   "metadata": {},
   "source": [
    "## Sentiment Analysis"
   ]
  },
  {
   "cell_type": "code",
   "execution_count": 115,
   "id": "be2cb8de",
   "metadata": {},
   "outputs": [],
   "source": [
    "from textblob import TextBlob\n"
   ]
  },
  {
   "cell_type": "code",
   "execution_count": 117,
   "id": "b4a38cd4",
   "metadata": {},
   "outputs": [],
   "source": [
    "df['polarity'] = df['lemmatized_review'].apply(lambda x: TextBlob(x).sentiment[0])"
   ]
  },
  {
   "cell_type": "code",
   "execution_count": 118,
   "id": "27f6aef0",
   "metadata": {},
   "outputs": [],
   "source": [
    "df['subjectivity'] = df['lemmatized_review'].apply(lambda x: TextBlob(x).sentiment[1])\n",
    "\n"
   ]
  },
  {
   "cell_type": "code",
   "execution_count": 121,
   "id": "c5cce4cd",
   "metadata": {},
   "outputs": [
    {
     "data": {
      "text/html": [
       "<div>\n",
       "<style scoped>\n",
       "    .dataframe tbody tr th:only-of-type {\n",
       "        vertical-align: middle;\n",
       "    }\n",
       "\n",
       "    .dataframe tbody tr th {\n",
       "        vertical-align: top;\n",
       "    }\n",
       "\n",
       "    .dataframe thead th {\n",
       "        text-align: right;\n",
       "    }\n",
       "</style>\n",
       "<table border=\"1\" class=\"dataframe\">\n",
       "  <thead>\n",
       "    <tr style=\"text-align: right;\">\n",
       "      <th></th>\n",
       "      <th>review</th>\n",
       "      <th>word_count</th>\n",
       "      <th>char_count</th>\n",
       "      <th>average_word_length</th>\n",
       "      <th>stopword_count</th>\n",
       "      <th>stopword_rate</th>\n",
       "      <th>lowercase</th>\n",
       "      <th>punctuation</th>\n",
       "      <th>stopwords</th>\n",
       "      <th>cleand_review</th>\n",
       "      <th>lemmatized_review</th>\n",
       "      <th>polarity</th>\n",
       "      <th>subjectivity</th>\n",
       "    </tr>\n",
       "  </thead>\n",
       "  <tbody>\n",
       "    <tr>\n",
       "      <th>0</th>\n",
       "      <td>Dry falafel, dry chicken had a few pieces that...</td>\n",
       "      <td>57</td>\n",
       "      <td>309</td>\n",
       "      <td>4.438596</td>\n",
       "      <td>21</td>\n",
       "      <td>0.368421</td>\n",
       "      <td>dry falafel, dry chicken had a few pieces that...</td>\n",
       "      <td>dry falafel dry chicken had a few pieces that ...</td>\n",
       "      <td>dry falafel dry chicken pieces looked like bee...</td>\n",
       "      <td>dry falafel dry chicken pieces looked like bee...</td>\n",
       "      <td>dry falafel dry chicken piece looked like beef...</td>\n",
       "      <td>-0.297917</td>\n",
       "      <td>0.637500</td>\n",
       "    </tr>\n",
       "    <tr>\n",
       "      <th>1</th>\n",
       "      <td>Stellar! If... ... soggy microwaved falafel, t...</td>\n",
       "      <td>158</td>\n",
       "      <td>872</td>\n",
       "      <td>4.525316</td>\n",
       "      <td>81</td>\n",
       "      <td>0.512658</td>\n",
       "      <td>stellar! if... ... soggy microwaved falafel, t...</td>\n",
       "      <td>stellar if  soggy microwaved falafel taco lett...</td>\n",
       "      <td>stellar soggy microwaved falafel taco lettuce ...</td>\n",
       "      <td>stellar soggy microwaved falafel taco lettuce ...</td>\n",
       "      <td>stellar soggy microwaved falafel taco lettuce ...</td>\n",
       "      <td>0.251465</td>\n",
       "      <td>0.454670</td>\n",
       "    </tr>\n",
       "    <tr>\n",
       "      <th>2</th>\n",
       "      <td>So I will start it saying that I am from Ottaw...</td>\n",
       "      <td>155</td>\n",
       "      <td>799</td>\n",
       "      <td>4.161290</td>\n",
       "      <td>79</td>\n",
       "      <td>0.509677</td>\n",
       "      <td>so i will start it saying that i am from ottaw...</td>\n",
       "      <td>so i will start it saying that i am from ottaw...</td>\n",
       "      <td>start saying ottawa large lebanese community t...</td>\n",
       "      <td>start saying ottawa large lebanese community t...</td>\n",
       "      <td>start saying ottawa large lebanese community t...</td>\n",
       "      <td>0.153810</td>\n",
       "      <td>0.621346</td>\n",
       "    </tr>\n",
       "    <tr>\n",
       "      <th>3</th>\n",
       "      <td>Amazing chicken shawarma plate! Full of flavou...</td>\n",
       "      <td>55</td>\n",
       "      <td>290</td>\n",
       "      <td>4.290909</td>\n",
       "      <td>28</td>\n",
       "      <td>0.509091</td>\n",
       "      <td>amazing chicken shawarma plate! full of flavou...</td>\n",
       "      <td>amazing chicken shawarma plate full of flavour...</td>\n",
       "      <td>amazing chicken shawarma plate full flavour hu...</td>\n",
       "      <td>amazing chicken shawarma plate full flavour hu...</td>\n",
       "      <td>amazing chicken shawarma plate full flavour hu...</td>\n",
       "      <td>0.275000</td>\n",
       "      <td>0.750000</td>\n",
       "    </tr>\n",
       "    <tr>\n",
       "      <th>4</th>\n",
       "      <td>I am visiting Halifax for first time.  There a...</td>\n",
       "      <td>159</td>\n",
       "      <td>832</td>\n",
       "      <td>4.144654</td>\n",
       "      <td>81</td>\n",
       "      <td>0.509434</td>\n",
       "      <td>i am visiting halifax for first time. there ar...</td>\n",
       "      <td>i am visiting halifax for first time there are...</td>\n",
       "      <td>visiting halifax first time many choices great...</td>\n",
       "      <td>visiting halifax first time many choices great...</td>\n",
       "      <td>visiting halifax first time many choice great ...</td>\n",
       "      <td>0.411333</td>\n",
       "      <td>0.528250</td>\n",
       "    </tr>\n",
       "  </tbody>\n",
       "</table>\n",
       "</div>"
      ],
      "text/plain": [
       "                                              review  word_count  char_count  \\\n",
       "0  Dry falafel, dry chicken had a few pieces that...          57         309   \n",
       "1  Stellar! If... ... soggy microwaved falafel, t...         158         872   \n",
       "2  So I will start it saying that I am from Ottaw...         155         799   \n",
       "3  Amazing chicken shawarma plate! Full of flavou...          55         290   \n",
       "4  I am visiting Halifax for first time.  There a...         159         832   \n",
       "\n",
       "   average_word_length  stopword_count  stopword_rate  \\\n",
       "0             4.438596              21       0.368421   \n",
       "1             4.525316              81       0.512658   \n",
       "2             4.161290              79       0.509677   \n",
       "3             4.290909              28       0.509091   \n",
       "4             4.144654              81       0.509434   \n",
       "\n",
       "                                           lowercase  \\\n",
       "0  dry falafel, dry chicken had a few pieces that...   \n",
       "1  stellar! if... ... soggy microwaved falafel, t...   \n",
       "2  so i will start it saying that i am from ottaw...   \n",
       "3  amazing chicken shawarma plate! full of flavou...   \n",
       "4  i am visiting halifax for first time. there ar...   \n",
       "\n",
       "                                         punctuation  \\\n",
       "0  dry falafel dry chicken had a few pieces that ...   \n",
       "1  stellar if  soggy microwaved falafel taco lett...   \n",
       "2  so i will start it saying that i am from ottaw...   \n",
       "3  amazing chicken shawarma plate full of flavour...   \n",
       "4  i am visiting halifax for first time there are...   \n",
       "\n",
       "                                           stopwords  \\\n",
       "0  dry falafel dry chicken pieces looked like bee...   \n",
       "1  stellar soggy microwaved falafel taco lettuce ...   \n",
       "2  start saying ottawa large lebanese community t...   \n",
       "3  amazing chicken shawarma plate full flavour hu...   \n",
       "4  visiting halifax first time many choices great...   \n",
       "\n",
       "                                       cleand_review  \\\n",
       "0  dry falafel dry chicken pieces looked like bee...   \n",
       "1  stellar soggy microwaved falafel taco lettuce ...   \n",
       "2  start saying ottawa large lebanese community t...   \n",
       "3  amazing chicken shawarma plate full flavour hu...   \n",
       "4  visiting halifax first time many choices great...   \n",
       "\n",
       "                                   lemmatized_review  polarity  subjectivity  \n",
       "0  dry falafel dry chicken piece looked like beef... -0.297917      0.637500  \n",
       "1  stellar soggy microwaved falafel taco lettuce ...  0.251465      0.454670  \n",
       "2  start saying ottawa large lebanese community t...  0.153810      0.621346  \n",
       "3  amazing chicken shawarma plate full flavour hu...  0.275000      0.750000  \n",
       "4  visiting halifax first time many choice great ...  0.411333      0.528250  "
      ]
     },
     "execution_count": 121,
     "metadata": {},
     "output_type": "execute_result"
    }
   ],
   "source": [
    "df.head()"
   ]
  },
  {
   "cell_type": "code",
   "execution_count": 124,
   "id": "cbbdd772",
   "metadata": {},
   "outputs": [
    {
     "ename": "KeyError",
     "evalue": "('lowercase', 'punctuation', 'stopwords', 'cleand_review', 'lemmatized_review')",
     "output_type": "error",
     "traceback": [
      "\u001b[1;31m---------------------------------------------------------------------------\u001b[0m",
      "\u001b[1;31mKeyError\u001b[0m                                  Traceback (most recent call last)",
      "\u001b[1;32m~\\AppData\\Local\\Programs\\Python\\Python39\\lib\\site-packages\\pandas\\core\\indexes\\base.py\u001b[0m in \u001b[0;36mget_loc\u001b[1;34m(self, key, method, tolerance)\u001b[0m\n\u001b[0;32m   3360\u001b[0m             \u001b[1;32mtry\u001b[0m\u001b[1;33m:\u001b[0m\u001b[1;33m\u001b[0m\u001b[1;33m\u001b[0m\u001b[0m\n\u001b[1;32m-> 3361\u001b[1;33m                 \u001b[1;32mreturn\u001b[0m \u001b[0mself\u001b[0m\u001b[1;33m.\u001b[0m\u001b[0m_engine\u001b[0m\u001b[1;33m.\u001b[0m\u001b[0mget_loc\u001b[0m\u001b[1;33m(\u001b[0m\u001b[0mcasted_key\u001b[0m\u001b[1;33m)\u001b[0m\u001b[1;33m\u001b[0m\u001b[1;33m\u001b[0m\u001b[0m\n\u001b[0m\u001b[0;32m   3362\u001b[0m             \u001b[1;32mexcept\u001b[0m \u001b[0mKeyError\u001b[0m \u001b[1;32mas\u001b[0m \u001b[0merr\u001b[0m\u001b[1;33m:\u001b[0m\u001b[1;33m\u001b[0m\u001b[1;33m\u001b[0m\u001b[0m\n",
      "\u001b[1;32m~\\AppData\\Local\\Programs\\Python\\Python39\\lib\\site-packages\\pandas\\_libs\\index.pyx\u001b[0m in \u001b[0;36mpandas._libs.index.IndexEngine.get_loc\u001b[1;34m()\u001b[0m\n",
      "\u001b[1;32m~\\AppData\\Local\\Programs\\Python\\Python39\\lib\\site-packages\\pandas\\_libs\\index.pyx\u001b[0m in \u001b[0;36mpandas._libs.index.IndexEngine.get_loc\u001b[1;34m()\u001b[0m\n",
      "\u001b[1;32mpandas\\_libs\\hashtable_class_helper.pxi\u001b[0m in \u001b[0;36mpandas._libs.hashtable.PyObjectHashTable.get_item\u001b[1;34m()\u001b[0m\n",
      "\u001b[1;32mpandas\\_libs\\hashtable_class_helper.pxi\u001b[0m in \u001b[0;36mpandas._libs.hashtable.PyObjectHashTable.get_item\u001b[1;34m()\u001b[0m\n",
      "\u001b[1;31mKeyError\u001b[0m: ('lowercase', 'punctuation', 'stopwords', 'cleand_review', 'lemmatized_review')",
      "\nThe above exception was the direct cause of the following exception:\n",
      "\u001b[1;31mKeyError\u001b[0m                                  Traceback (most recent call last)",
      "\u001b[1;32m~\\AppData\\Local\\Temp/ipykernel_5084/3668749589.py\u001b[0m in \u001b[0;36m<module>\u001b[1;34m\u001b[0m\n\u001b[1;32m----> 1\u001b[1;33m \u001b[0mdf\u001b[0m\u001b[1;33m[\u001b[0m\u001b[1;34m'lowercase'\u001b[0m\u001b[1;33m,\u001b[0m\u001b[1;34m'punctuation'\u001b[0m\u001b[1;33m,\u001b[0m\u001b[1;34m'stopwords'\u001b[0m\u001b[1;33m,\u001b[0m\u001b[1;34m'cleand_review'\u001b[0m\u001b[1;33m,\u001b[0m\u001b[1;34m'lemmatized_review'\u001b[0m\u001b[1;33m]\u001b[0m\u001b[1;33m(\u001b[0m\u001b[0maxis\u001b[0m\u001b[1;33m=\u001b[0m\u001b[1;36m1\u001b[0m\u001b[1;33m,\u001b[0m\u001b[0minplace\u001b[0m\u001b[1;33m=\u001b[0m\u001b[1;32mTrue\u001b[0m\u001b[1;33m)\u001b[0m\u001b[1;33m\u001b[0m\u001b[1;33m\u001b[0m\u001b[0m\n\u001b[0m",
      "\u001b[1;32m~\\AppData\\Local\\Programs\\Python\\Python39\\lib\\site-packages\\pandas\\core\\frame.py\u001b[0m in \u001b[0;36m__getitem__\u001b[1;34m(self, key)\u001b[0m\n\u001b[0;32m   3456\u001b[0m             \u001b[1;32mif\u001b[0m \u001b[0mself\u001b[0m\u001b[1;33m.\u001b[0m\u001b[0mcolumns\u001b[0m\u001b[1;33m.\u001b[0m\u001b[0mnlevels\u001b[0m \u001b[1;33m>\u001b[0m \u001b[1;36m1\u001b[0m\u001b[1;33m:\u001b[0m\u001b[1;33m\u001b[0m\u001b[1;33m\u001b[0m\u001b[0m\n\u001b[0;32m   3457\u001b[0m                 \u001b[1;32mreturn\u001b[0m \u001b[0mself\u001b[0m\u001b[1;33m.\u001b[0m\u001b[0m_getitem_multilevel\u001b[0m\u001b[1;33m(\u001b[0m\u001b[0mkey\u001b[0m\u001b[1;33m)\u001b[0m\u001b[1;33m\u001b[0m\u001b[1;33m\u001b[0m\u001b[0m\n\u001b[1;32m-> 3458\u001b[1;33m             \u001b[0mindexer\u001b[0m \u001b[1;33m=\u001b[0m \u001b[0mself\u001b[0m\u001b[1;33m.\u001b[0m\u001b[0mcolumns\u001b[0m\u001b[1;33m.\u001b[0m\u001b[0mget_loc\u001b[0m\u001b[1;33m(\u001b[0m\u001b[0mkey\u001b[0m\u001b[1;33m)\u001b[0m\u001b[1;33m\u001b[0m\u001b[1;33m\u001b[0m\u001b[0m\n\u001b[0m\u001b[0;32m   3459\u001b[0m             \u001b[1;32mif\u001b[0m \u001b[0mis_integer\u001b[0m\u001b[1;33m(\u001b[0m\u001b[0mindexer\u001b[0m\u001b[1;33m)\u001b[0m\u001b[1;33m:\u001b[0m\u001b[1;33m\u001b[0m\u001b[1;33m\u001b[0m\u001b[0m\n\u001b[0;32m   3460\u001b[0m                 \u001b[0mindexer\u001b[0m \u001b[1;33m=\u001b[0m \u001b[1;33m[\u001b[0m\u001b[0mindexer\u001b[0m\u001b[1;33m]\u001b[0m\u001b[1;33m\u001b[0m\u001b[1;33m\u001b[0m\u001b[0m\n",
      "\u001b[1;32m~\\AppData\\Local\\Programs\\Python\\Python39\\lib\\site-packages\\pandas\\core\\indexes\\base.py\u001b[0m in \u001b[0;36mget_loc\u001b[1;34m(self, key, method, tolerance)\u001b[0m\n\u001b[0;32m   3361\u001b[0m                 \u001b[1;32mreturn\u001b[0m \u001b[0mself\u001b[0m\u001b[1;33m.\u001b[0m\u001b[0m_engine\u001b[0m\u001b[1;33m.\u001b[0m\u001b[0mget_loc\u001b[0m\u001b[1;33m(\u001b[0m\u001b[0mcasted_key\u001b[0m\u001b[1;33m)\u001b[0m\u001b[1;33m\u001b[0m\u001b[1;33m\u001b[0m\u001b[0m\n\u001b[0;32m   3362\u001b[0m             \u001b[1;32mexcept\u001b[0m \u001b[0mKeyError\u001b[0m \u001b[1;32mas\u001b[0m \u001b[0merr\u001b[0m\u001b[1;33m:\u001b[0m\u001b[1;33m\u001b[0m\u001b[1;33m\u001b[0m\u001b[0m\n\u001b[1;32m-> 3363\u001b[1;33m                 \u001b[1;32mraise\u001b[0m \u001b[0mKeyError\u001b[0m\u001b[1;33m(\u001b[0m\u001b[0mkey\u001b[0m\u001b[1;33m)\u001b[0m \u001b[1;32mfrom\u001b[0m \u001b[0merr\u001b[0m\u001b[1;33m\u001b[0m\u001b[1;33m\u001b[0m\u001b[0m\n\u001b[0m\u001b[0;32m   3364\u001b[0m \u001b[1;33m\u001b[0m\u001b[0m\n\u001b[0;32m   3365\u001b[0m         \u001b[1;32mif\u001b[0m \u001b[0mis_scalar\u001b[0m\u001b[1;33m(\u001b[0m\u001b[0mkey\u001b[0m\u001b[1;33m)\u001b[0m \u001b[1;32mand\u001b[0m \u001b[0misna\u001b[0m\u001b[1;33m(\u001b[0m\u001b[0mkey\u001b[0m\u001b[1;33m)\u001b[0m \u001b[1;32mand\u001b[0m \u001b[1;32mnot\u001b[0m \u001b[0mself\u001b[0m\u001b[1;33m.\u001b[0m\u001b[0mhasnans\u001b[0m\u001b[1;33m:\u001b[0m\u001b[1;33m\u001b[0m\u001b[1;33m\u001b[0m\u001b[0m\n",
      "\u001b[1;31mKeyError\u001b[0m: ('lowercase', 'punctuation', 'stopwords', 'cleand_review', 'lemmatized_review')"
     ]
    }
   ],
   "source": [
    "# df['lowercase','punctuation','stopwords','cleand_review','lemmatized_review'](axis=1,inplace=True)"
   ]
  }
 ],
 "metadata": {
  "kernelspec": {
   "display_name": "Python 3 (ipykernel)",
   "language": "python",
   "name": "python3"
  },
  "language_info": {
   "codemirror_mode": {
    "name": "ipython",
    "version": 3
   },
   "file_extension": ".py",
   "mimetype": "text/x-python",
   "name": "python",
   "nbconvert_exporter": "python",
   "pygments_lexer": "ipython3",
   "version": "3.9.7"
  }
 },
 "nbformat": 4,
 "nbformat_minor": 5
}
